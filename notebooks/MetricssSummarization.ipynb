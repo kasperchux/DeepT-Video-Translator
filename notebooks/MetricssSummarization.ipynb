{
 "cells": [
  {
   "metadata": {},
   "cell_type": "markdown",
   "source": [
    "# In this notebook: \n",
    "   * Choose three summarization models\n",
    "   * Calculate the most popular metrics\n",
    "   * Choose one from all models to use it in my project"
   ],
   "id": "640f536dae21b59b"
  },
  {
   "metadata": {},
   "cell_type": "markdown",
   "source": "# Import all libraries and dependencies",
   "id": "3ce1ece912e05c1b"
  },
  {
   "metadata": {
    "ExecuteTime": {
     "end_time": "2024-06-15T15:10:23.647082Z",
     "start_time": "2024-06-15T15:10:18.727793Z"
    }
   },
   "cell_type": "code",
   "source": "!pip install bert_score",
   "id": "cd4a8cfca875dfd0",
   "outputs": [
    {
     "name": "stdout",
     "output_type": "stream",
     "text": [
      "Collecting bert_score\n",
      "  Downloading bert_score-0.3.13-py3-none-any.whl.metadata (15 kB)\n",
      "Requirement already satisfied: torch>=1.0.0 in c:\\users\\user\\.conda\\envs\\coding\\lib\\site-packages (from bert_score) (2.3.0+cu118)\n",
      "Requirement already satisfied: pandas>=1.0.1 in c:\\users\\user\\.conda\\envs\\coding\\lib\\site-packages (from bert_score) (2.2.2)\n",
      "Requirement already satisfied: transformers>=3.0.0 in c:\\users\\user\\.conda\\envs\\coding\\lib\\site-packages (from bert_score) (4.41.1)\n",
      "Requirement already satisfied: numpy in c:\\users\\user\\.conda\\envs\\coding\\lib\\site-packages (from bert_score) (1.26.4)\n",
      "Requirement already satisfied: requests in c:\\users\\user\\.conda\\envs\\coding\\lib\\site-packages (from bert_score) (2.32.3)\n",
      "Requirement already satisfied: tqdm>=4.31.1 in c:\\users\\user\\.conda\\envs\\coding\\lib\\site-packages (from bert_score) (4.66.4)\n",
      "Requirement already satisfied: matplotlib in c:\\users\\user\\.conda\\envs\\coding\\lib\\site-packages (from bert_score) (3.8.4)\n",
      "Requirement already satisfied: packaging>=20.9 in c:\\users\\user\\.conda\\envs\\coding\\lib\\site-packages (from bert_score) (24.0)\n",
      "Requirement already satisfied: python-dateutil>=2.8.2 in c:\\users\\user\\.conda\\envs\\coding\\lib\\site-packages (from pandas>=1.0.1->bert_score) (2.9.0.post0)\n",
      "Requirement already satisfied: pytz>=2020.1 in c:\\users\\user\\.conda\\envs\\coding\\lib\\site-packages (from pandas>=1.0.1->bert_score) (2024.1)\n",
      "Requirement already satisfied: tzdata>=2022.7 in c:\\users\\user\\.conda\\envs\\coding\\lib\\site-packages (from pandas>=1.0.1->bert_score) (2024.1)\n",
      "Requirement already satisfied: filelock in c:\\users\\user\\.conda\\envs\\coding\\lib\\site-packages (from torch>=1.0.0->bert_score) (3.14.0)\n",
      "Requirement already satisfied: typing-extensions>=4.8.0 in c:\\users\\user\\.conda\\envs\\coding\\lib\\site-packages (from torch>=1.0.0->bert_score) (4.11.0)\n",
      "Requirement already satisfied: sympy in c:\\users\\user\\.conda\\envs\\coding\\lib\\site-packages (from torch>=1.0.0->bert_score) (1.12.1)\n",
      "Requirement already satisfied: networkx in c:\\users\\user\\.conda\\envs\\coding\\lib\\site-packages (from torch>=1.0.0->bert_score) (3.3)\n",
      "Requirement already satisfied: jinja2 in c:\\users\\user\\.conda\\envs\\coding\\lib\\site-packages (from torch>=1.0.0->bert_score) (3.1.4)\n",
      "Requirement already satisfied: fsspec in c:\\users\\user\\.conda\\envs\\coding\\lib\\site-packages (from torch>=1.0.0->bert_score) (2024.3.1)\n",
      "Requirement already satisfied: mkl<=2021.4.0,>=2021.1.1 in c:\\users\\user\\.conda\\envs\\coding\\lib\\site-packages (from torch>=1.0.0->bert_score) (2021.4.0)\n",
      "Requirement already satisfied: colorama in c:\\users\\user\\.conda\\envs\\coding\\lib\\site-packages (from tqdm>=4.31.1->bert_score) (0.4.6)\n",
      "Requirement already satisfied: huggingface-hub<1.0,>=0.23.0 in c:\\users\\user\\.conda\\envs\\coding\\lib\\site-packages (from transformers>=3.0.0->bert_score) (0.23.0)\n",
      "Requirement already satisfied: pyyaml>=5.1 in c:\\users\\user\\.conda\\envs\\coding\\lib\\site-packages (from transformers>=3.0.0->bert_score) (6.0.1)\n",
      "Requirement already satisfied: regex!=2019.12.17 in c:\\users\\user\\.conda\\envs\\coding\\lib\\site-packages (from transformers>=3.0.0->bert_score) (2024.4.28)\n",
      "Requirement already satisfied: tokenizers<0.20,>=0.19 in c:\\users\\user\\.conda\\envs\\coding\\lib\\site-packages (from transformers>=3.0.0->bert_score) (0.19.1)\n",
      "Requirement already satisfied: safetensors>=0.4.1 in c:\\users\\user\\.conda\\envs\\coding\\lib\\site-packages (from transformers>=3.0.0->bert_score) (0.4.3)\n",
      "Requirement already satisfied: contourpy>=1.0.1 in c:\\users\\user\\.conda\\envs\\coding\\lib\\site-packages (from matplotlib->bert_score) (1.2.1)\n",
      "Requirement already satisfied: cycler>=0.10 in c:\\users\\user\\.conda\\envs\\coding\\lib\\site-packages (from matplotlib->bert_score) (0.12.1)\n",
      "Requirement already satisfied: fonttools>=4.22.0 in c:\\users\\user\\.conda\\envs\\coding\\lib\\site-packages (from matplotlib->bert_score) (4.51.0)\n",
      "Requirement already satisfied: kiwisolver>=1.3.1 in c:\\users\\user\\.conda\\envs\\coding\\lib\\site-packages (from matplotlib->bert_score) (1.4.5)\n",
      "Requirement already satisfied: pillow>=8 in c:\\users\\user\\.conda\\envs\\coding\\lib\\site-packages (from matplotlib->bert_score) (10.3.0)\n",
      "Requirement already satisfied: pyparsing>=2.3.1 in c:\\users\\user\\.conda\\envs\\coding\\lib\\site-packages (from matplotlib->bert_score) (3.1.2)\n",
      "Requirement already satisfied: charset-normalizer<4,>=2 in c:\\users\\user\\.conda\\envs\\coding\\lib\\site-packages (from requests->bert_score) (3.3.2)\n",
      "Requirement already satisfied: idna<4,>=2.5 in c:\\users\\user\\.conda\\envs\\coding\\lib\\site-packages (from requests->bert_score) (3.7)\n",
      "Requirement already satisfied: urllib3<3,>=1.21.1 in c:\\users\\user\\.conda\\envs\\coding\\lib\\site-packages (from requests->bert_score) (2.2.1)\n",
      "Requirement already satisfied: certifi>=2017.4.17 in c:\\users\\user\\.conda\\envs\\coding\\lib\\site-packages (from requests->bert_score) (2024.2.2)\n",
      "Requirement already satisfied: intel-openmp==2021.* in c:\\users\\user\\.conda\\envs\\coding\\lib\\site-packages (from mkl<=2021.4.0,>=2021.1.1->torch>=1.0.0->bert_score) (2021.4.0)\n",
      "Requirement already satisfied: tbb==2021.* in c:\\users\\user\\.conda\\envs\\coding\\lib\\site-packages (from mkl<=2021.4.0,>=2021.1.1->torch>=1.0.0->bert_score) (2021.12.0)\n",
      "Requirement already satisfied: six>=1.5 in c:\\users\\user\\.conda\\envs\\coding\\lib\\site-packages (from python-dateutil>=2.8.2->pandas>=1.0.1->bert_score) (1.16.0)\n",
      "Requirement already satisfied: MarkupSafe>=2.0 in c:\\users\\user\\.conda\\envs\\coding\\lib\\site-packages (from jinja2->torch>=1.0.0->bert_score) (2.1.5)\n",
      "Requirement already satisfied: mpmath<1.4.0,>=1.1.0 in c:\\users\\user\\.conda\\envs\\coding\\lib\\site-packages (from sympy->torch>=1.0.0->bert_score) (1.3.0)\n",
      "Downloading bert_score-0.3.13-py3-none-any.whl (61 kB)\n",
      "   ---------------------------------------- 0.0/61.1 kB ? eta -:--:--\n",
      "   ------ --------------------------------- 10.2/61.1 kB ? eta -:--:--\n",
      "   -------------------- ------------------- 30.7/61.1 kB 640.0 kB/s eta 0:00:01\n",
      "   -------------------------- ------------- 41.0/61.1 kB 279.3 kB/s eta 0:00:01\n",
      "   ---------------------------------------- 61.1/61.1 kB 361.0 kB/s eta 0:00:00\n",
      "Installing collected packages: bert_score\n",
      "Successfully installed bert_score-0.3.13\n"
     ]
    }
   ],
   "execution_count": 1
  },
  {
   "metadata": {
    "ExecuteTime": {
     "end_time": "2024-06-16T15:44:19.797365Z",
     "start_time": "2024-06-16T15:44:11.652072Z"
    }
   },
   "cell_type": "code",
   "source": [
    "from datasets import load_dataset\n",
    "from transformers import AutoTokenizer, AutoModelForSeq2SeqLM, AutoModel, BartForCausalLM, pipeline\n",
    "import numpy as np\n",
    "from rouge import Rouge\n",
    "import nltk\n",
    "from nltk.translate.bleu_score import sentence_bleu\n",
    "from bert_score import score"
   ],
   "id": "998bf00f7b0bd6e1",
   "outputs": [
    {
     "name": "stderr",
     "output_type": "stream",
     "text": [
      "C:\\Users\\User\\.conda\\envs\\coding\\Lib\\site-packages\\tqdm\\auto.py:21: TqdmWarning: IProgress not found. Please update jupyter and ipywidgets. See https://ipywidgets.readthedocs.io/en/stable/user_install.html\n",
      "  from .autonotebook import tqdm as notebook_tqdm\n"
     ]
    }
   ],
   "execution_count": 1
  },
  {
   "metadata": {},
   "cell_type": "markdown",
   "source": "# Let's load all models",
   "id": "3fe45e761bf7b5e2"
  },
  {
   "metadata": {},
   "cell_type": "markdown",
   "source": [
    "# There are..\n",
    "   * Ainiz\\Bart Base CNN\n",
    "   * Kasperchux\\BartBaseSummarization (It's my model)\n",
    "   * Falconsai/text-summarization"
   ],
   "id": "e686c07015681082"
  },
  {
   "metadata": {
    "ExecuteTime": {
     "end_time": "2024-06-16T15:44:24.820169Z",
     "start_time": "2024-06-16T15:44:23.130777Z"
    }
   },
   "cell_type": "code",
   "source": [
    "tokenizer_1 = AutoTokenizer.from_pretrained(\"ainize/bart-base-cnn\")\n",
    "model_1 = BartForCausalLM.from_pretrained(\"ainize/bart-base-cnn\")"
   ],
   "id": "a29a00a4d7e35a31",
   "outputs": [],
   "execution_count": 2
  },
  {
   "metadata": {
    "ExecuteTime": {
     "end_time": "2024-06-16T15:44:25.899674Z",
     "start_time": "2024-06-16T15:44:24.863182Z"
    }
   },
   "cell_type": "code",
   "source": [
    "tokenizer_3 = AutoTokenizer.from_pretrained(\"Falconsai/text_summarization\")\n",
    "model_3 = AutoModelForSeq2SeqLM.from_pretrained(\"Falconsai/text_summarization\")"
   ],
   "id": "b9b2a56c0479211c",
   "outputs": [],
   "execution_count": 3
  },
  {
   "metadata": {
    "ExecuteTime": {
     "end_time": "2024-06-16T15:44:31.208Z",
     "start_time": "2024-06-16T15:44:29.557761Z"
    }
   },
   "cell_type": "code",
   "source": [
    "tokenizer_2 = AutoTokenizer.from_pretrained(\"kasperchux/Bart-Base-Summarization\")\n",
    "model_2 = AutoModelForSeq2SeqLM.from_pretrained(\"kasperchux/Bart-Base-Summarization\")"
   ],
   "id": "d388fe0ac3379afc",
   "outputs": [],
   "execution_count": 4
  },
  {
   "metadata": {},
   "cell_type": "markdown",
   "source": [
    "# Essential function to summarize the text\n",
    " We will use it while testing model"
   ],
   "id": "8bf3841106e3e50d"
  },
  {
   "metadata": {},
   "cell_type": "markdown",
   "source": "This code taken from Bart-Base page on Hugging Face.",
   "id": "36325c70bda1ddc0"
  },
  {
   "metadata": {
    "ExecuteTime": {
     "end_time": "2024-06-16T16:02:01.230527Z",
     "start_time": "2024-06-16T16:02:01.225814Z"
    }
   },
   "cell_type": "code",
   "source": [
    "def summarize_bart_base_func(model, tokenizer, input_text):\n",
    "    input_ids = tokenizer.encode(input_text, return_tensors=\"pt\")\n",
    "\n",
    "    # Generate Summary Text Ids\n",
    "    summary_text_ids = model.generate(\n",
    "        input_ids=input_ids,\n",
    "        bos_token_id=model.config.bos_token_id,\n",
    "        eos_token_id=model.config.eos_token_id,\n",
    "        length_penalty=2.0,\n",
    "        max_length=1000,\n",
    "        min_length=56,\n",
    "        num_beams=4,\n",
    "    )\n",
    "    \n",
    "    # Decoding Text\n",
    "    return tokenizer.decode(summary_text_ids[0], skip_special_tokens=True)"
   ],
   "id": "7c7afb3f982680c3",
   "outputs": [],
   "execution_count": 51
  },
  {
   "metadata": {},
   "cell_type": "markdown",
   "source": "This code taken from model_interface/Summarizer.py",
   "id": "182b545b23fdac2b"
  },
  {
   "metadata": {
    "ExecuteTime": {
     "end_time": "2024-06-16T15:44:35.891852Z",
     "start_time": "2024-06-16T15:44:35.888322Z"
    }
   },
   "cell_type": "code",
   "source": [
    "def summarize_bart_base_kasperchuk_func(model, tokenizer, text: str) -> str:\n",
    "    input_ids = tokenizer.encode(text, return_tensors='pt') # Encode it\n",
    "    output = model.generate(input_ids)  # Get summarized text \n",
    "    output_text = tokenizer.decode(output[0], skip_special_tokens=True) # Decode it.\n",
    "    return output_text "
   ],
   "id": "9a74f7e8c3603876",
   "outputs": [],
   "execution_count": 6
  },
  {
   "metadata": {
    "ExecuteTime": {
     "end_time": "2024-06-16T15:48:33.853893Z",
     "start_time": "2024-06-16T15:48:33.849991Z"
    }
   },
   "cell_type": "code",
   "source": [
    "def summarize_falcon_func(model, tokenizer, text) -> str:\n",
    "    summarizer = pipeline(\"summarization\", model=model, tokenizer=tokenizer)\n",
    "    summ = summarizer(text, max_length=800, min_length=0, do_sample=False)\n",
    "    return summ[0][\"summary_text\"]"
   ],
   "id": "eb62dcd9a86b418c",
   "outputs": [],
   "execution_count": 22
  },
  {
   "metadata": {},
   "cell_type": "markdown",
   "source": [
    "# Download dataset to calculate metrics\n",
    " it will be \"abisee/cnn_dailymail\""
   ],
   "id": "18d98a41aa5edd5c"
  },
  {
   "metadata": {
    "ExecuteTime": {
     "end_time": "2024-06-16T15:44:50.359486Z",
     "start_time": "2024-06-16T15:44:44.452185Z"
    }
   },
   "cell_type": "code",
   "source": "test_dataset = load_dataset(\"abisee/cnn_dailymail\", \"3.0.0\", split=\"test\")",
   "id": "2c6cf633462acef5",
   "outputs": [],
   "execution_count": 8
  },
  {
   "metadata": {
    "ExecuteTime": {
     "end_time": "2024-06-16T16:14:02.159733Z",
     "start_time": "2024-06-16T16:14:02.155392Z"
    }
   },
   "cell_type": "code",
   "source": "test_sample = test_dataset.select(range(50)) # Select 20 rows from dataset ",
   "id": "99d6df907266d384",
   "outputs": [],
   "execution_count": 73
  },
  {
   "metadata": {
    "ExecuteTime": {
     "end_time": "2024-06-16T15:44:50.375068Z",
     "start_time": "2024-06-16T15:44:50.366440Z"
    }
   },
   "cell_type": "code",
   "source": "test_sample[0]",
   "id": "2180895e639f4eb9",
   "outputs": [
    {
     "data": {
      "text/plain": [
       "{'article': '(CNN)The Palestinian Authority officially became the 123rd member of the International Criminal Court on Wednesday, a step that gives the court jurisdiction over alleged crimes in Palestinian territories. The formal accession was marked with a ceremony at The Hague, in the Netherlands, where the court is based. The Palestinians signed the ICC\\'s founding Rome Statute in January, when they also accepted its jurisdiction over alleged crimes committed \"in the occupied Palestinian territory, including East Jerusalem, since June 13, 2014.\" Later that month, the ICC opened a preliminary examination into the situation in Palestinian territories, paving the way for possible war crimes investigations against Israelis. As members of the court, Palestinians may be subject to counter-charges as well. Israel and the United States, neither of which is an ICC member, opposed the Palestinians\\' efforts to join the body. But Palestinian Foreign Minister Riad al-Malki, speaking at Wednesday\\'s ceremony, said it was a move toward greater justice. \"As Palestine formally becomes a State Party to the Rome Statute today, the world is also a step closer to ending a long era of impunity and injustice,\" he said, according to an ICC news release. \"Indeed, today brings us closer to our shared goals of justice and peace.\" Judge Kuniko Ozaki, a vice president of the ICC, said acceding to the treaty was just the first step for the Palestinians. \"As the Rome Statute today enters into force for the State of Palestine, Palestine acquires all the rights as well as responsibilities that come with being a State Party to the Statute. These are substantive commitments, which cannot be taken lightly,\" she said. Rights group Human Rights Watch welcomed the development. \"Governments seeking to penalize Palestine for joining the ICC should immediately end their pressure, and countries that support universal acceptance of the court\\'s treaty should speak out to welcome its membership,\" said Balkees Jarrah, international justice counsel for the group. \"What\\'s objectionable is the attempts to undermine international justice, not Palestine\\'s decision to join a treaty to which over 100 countries around the world are members.\" In January, when the preliminary ICC examination was opened, Israeli Prime Minister Benjamin Netanyahu described it as an outrage, saying the court was overstepping its boundaries. The United States also said it \"strongly\" disagreed with the court\\'s decision. \"As we have said repeatedly, we do not believe that Palestine is a state and therefore we do not believe that it is eligible to join the ICC,\" the State Department said in a statement. It urged the warring sides to resolve their differences through direct negotiations. \"We will continue to oppose actions against Israel at the ICC as counterproductive to the cause of peace,\" it said. But the ICC begs to differ with the definition of a state for its purposes and refers to the territories as \"Palestine.\" While a preliminary examination is not a formal investigation, it allows the court to review evidence and determine whether to investigate suspects on both sides. Prosecutor Fatou Bensouda said her office would \"conduct its analysis in full independence and impartiality.\" The war between Israel and Hamas militants in Gaza last summer left more than 2,000 people dead. The inquiry will include alleged war crimes committed since June. The International Criminal Court was set up in 2002 to prosecute genocide, crimes against humanity and war crimes. CNN\\'s Vasco Cotovio, Kareem Khadder and Faith Karimi contributed to this report.',\n",
       " 'highlights': 'Membership gives the ICC jurisdiction over alleged crimes committed in Palestinian territories since last June .\\nIsrael and the United States opposed the move, which could open the door to war crimes investigations against Israelis .',\n",
       " 'id': 'f001ec5c4704938247d27a44948eebb37ae98d01'}"
      ]
     },
     "execution_count": 10,
     "metadata": {},
     "output_type": "execute_result"
    }
   ],
   "execution_count": 10
  },
  {
   "metadata": {
    "ExecuteTime": {
     "end_time": "2024-06-16T16:14:04.666326Z",
     "start_time": "2024-06-16T16:14:04.661697Z"
    }
   },
   "cell_type": "code",
   "source": "test_sample.remove_columns([\"id\"])",
   "id": "f1c52a5baff4115b",
   "outputs": [
    {
     "data": {
      "text/plain": [
       "Dataset({\n",
       "    features: ['article', 'highlights'],\n",
       "    num_rows: 50\n",
       "})"
      ]
     },
     "execution_count": 74,
     "metadata": {},
     "output_type": "execute_result"
    }
   ],
   "execution_count": 74
  },
  {
   "metadata": {
    "ExecuteTime": {
     "end_time": "2024-06-16T16:14:06.765391Z",
     "start_time": "2024-06-16T16:14:06.758770Z"
    }
   },
   "cell_type": "code",
   "source": "references = [ex[\"highlights\"] for ex in test_sample] # Get only summary",
   "id": "2ae122e873f8eeb",
   "outputs": [],
   "execution_count": 75
  },
  {
   "metadata": {
    "ExecuteTime": {
     "end_time": "2024-06-16T16:14:08.031856Z",
     "start_time": "2024-06-16T16:14:08.027792Z"
    }
   },
   "cell_type": "code",
   "source": "references",
   "id": "2ba59eff954f938f",
   "outputs": [
    {
     "data": {
      "text/plain": [
       "['Membership gives the ICC jurisdiction over alleged crimes committed in Palestinian territories since last June .\\nIsrael and the United States opposed the move, which could open the door to war crimes investigations against Israelis .',\n",
       " 'Theia, a bully breed mix, was apparently hit by a car, whacked with a hammer and buried in a field .\\n\"She\\'s a true miracle dog and she deserves a good life,\" says Sara Mellado, who is looking for a home for Theia .',\n",
       " 'Mohammad Javad Zarif has spent more time with John Kerry than any other foreign minister .\\nHe once participated in a takeover of the Iranian Consulate in San Francisco .\\nThe Iranian foreign minister tweets in English .',\n",
       " '17 Americans were exposed to the Ebola virus while in Sierra Leone in March .\\nAnother person was diagnosed with the disease and taken to hospital in Maryland .\\nNational Institutes of Health says the patient is in fair condition after weeks of treatment .',\n",
       " 'Student is no longer on Duke University campus and will face disciplinary review .\\nSchool officials identified student during investigation and the person admitted to hanging the noose, Duke says .\\nThe noose, made of rope, was discovered on campus about 2 a.m.',\n",
       " 'College-bound basketball star asks girl with Down syndrome to high school prom .\\nPictures of the two during the \"prom-posal\" have gone viral .',\n",
       " \"Amnesty's annual death penalty report catalogs encouraging signs, but setbacks in numbers of those sentenced to death .\\nOrganization claims that governments around the world are using the threat of terrorism to advance executions .\\nThe number of executions worldwide has gone down by almost 22% compared with 2013, but death sentences up by 28% .\",\n",
       " \"Andrew Getty's death appears to be from natural causes, police say, citing coroner's early assessment .\\nIn a petition for a restraining order, Getty had written he had a serious medical condition.\\nPolice say this is not a criminal matter at this time .\",\n",
       " 'Once a super typhoon, Maysak is now a tropical storm with 70 mph winds .\\nIt could still cause flooding, landslides and other problems in the Philippines .',\n",
       " 'Bob Barker returned to host \"The Price Is Right\" on Wednesday .\\nBarker, 91, had retired as host in 2007 .',\n",
       " \"London's Metropolitan Police say the man was arrested at Luton airport after landing on a flight from Istanbul .\\nHe's been charged with terror offenses allegedly committed since the start of November .\",\n",
       " '\"Furious 7\" pays tribute to star Paul Walker, who died during filming .\\nVin Diesel: \"This movie is more than a movie\"\\n\"Furious 7\" opens Friday .',\n",
       " 'Museum: Anne Frank died earlier than previously believed .\\nResearchers re-examined archives and testimonies of survivors .\\nAnne and older sister Margot Frank are believed to have died in February 1945 .',\n",
       " 'LZ: Indiana law pushing back LGBT rights, and other states\\' anti-LGBT moves, bow to far right wing that GOP candidates need for 2016 .\\nCruz, Huckabee, Jindal, Carson, Walker are reviving culture wars, he says.  Equality for LGBT has not yet \"won\" in America .',\n",
       " 'Singing the national anthem is a risky proposition .\\nWhitney Houston nailed it; Roseanne Barr destroyed it .',\n",
       " 'While Republican Gov. Asa Hutchinson was weighing an Arkansas religious freedom bill, Walmart voiced its opposition .\\nWalmart and other high-profile businesses are showing their support for gay and lesbian rights .\\nTheir stance puts them in conflict with socially conservative Republicans, traditionally seen as allies .',\n",
       " 'Amnesty International releases its annual review of the death penalty worldwide; much of it makes for grim reading .\\nSalil Shetty: Countries that use executions to deal with problems are on the wrong side of history .',\n",
       " 'Marseille prosecutor says \"so far no videos were used in the crash investigation\" despite media reports .\\nJournalists at Bild and Paris Match are \"very confident\" the video clip is real, an editor says .\\nAndreas Lubitz had informed his Lufthansa training school of an episode of severe depression, airline says .',\n",
       " 'The Rev. Robert Schuller, 88, had been diagnosed with esophageal cancer in 2013 .\\nHis TV show, \"Hour of Power,\" was enormously popular in the 1970s and 1980s .',\n",
       " 'Former GOP representative compares President Obama to Andreas Lubitz .\\nBachmann said with possible Iran deal, Obama will fly \"entire nation into the rocks\"\\nReaction on social media? She was blasted by Facebook commenters .',\n",
       " 'Father: \"I know he went through what he went through\"\\nLouis Jordan was found on his sailboat, which was listing and in bad shape, rescuer says .\\nHe appears to be in good shape, physically and mentally .',\n",
       " 'Richard Klass: Iran framework agreement on nukes is strong, but opponents will cast doubts on this and try to obscure its facts .\\nHe says the deal would cut uranium stockpile, centrifuges, implement rigorous inspections; it should be judged on merits, not disinformation .',\n",
       " 'Americans paid more for some fruits and vegetables last year because of the drought .\\nTourists will now have to ask for a glass of water at a California restaurant .\\nPerhaps the only good thing is another \"great\" wine grape harvest last year .',\n",
       " \"The FBI cites social media messages sent by Keonna Thomas, 30 .\\nShe's accused of trying to travel overseas to join ISIS .\\nThomas is one of three women facing federal terror charges this week .\",\n",
       " 'Iranian sports official: The ban will be lifted for some events in the coming year .\\nBut he says \"families are not interested in attending\" some sports matches .',\n",
       " 'Going online has become the path of least resistance if you want to make yourself heard .\\nBut where there is the restrictive rule of law, journalists are vulnerable to the anger of officialdom .\\nFrom China to Malaysia, journalists and bloggers have been jailed -- even killed .',\n",
       " 'The singer had been off the scene for a while .\\nShe says she was bedridden for months .\\nLavigne was sometimes too weak to shower .',\n",
       " \"Here are six of CNN's best videos of the week .\\nClips include a look at Mike Tyson's abandoned mansion .\",\n",
       " 'Netanyahu says third option is \"standing firm\" to get a better deal .\\nPolitical sparring continues in U.S. over the deal with Iran .',\n",
       " \"Indiana town's Memories Pizza is shut down after online threat .\\nIts owners say they'd refuse to cater a same-sex couple's wedding .\",\n",
       " \"Authorities in the Indian city of Malegaon have asked residents to take a 'mugshot' of their cattle .\\nCows are revered by the majority Hindu population, and many parts of the country have laws banning the slaughter of cattle .\\nOfficials in Malegaon believe this is the best way to solve cow slaughter cases and enforce the law .\",\n",
       " 'A South Carolina man says he spent 66 days alone at sea before being rescued .\\nOther sole survivor stories include a Japanese man washed away by a tsunami .\\nAn El Salvador man says he drifted from Mexico to Marshall Islands over a year .',\n",
       " 'The Large Hadron Collider (LHC) begins again after a two-year shutdown .\\nThe restart was delayed in March .',\n",
       " 'FBI agents and a suspected serial robber exchange gunfire in an FBI stakeout .\\nTwo FBI agents are injured and the suspect is shot during the gunfight .',\n",
       " 'The total eclipse will only last 4 minutes and 43 seconds .\\nPeople west of the Mississippi River will have the best view .\\nParts of South America, India, China and Russia also will see the eclipse .',\n",
       " 'Terrorist group Al-Shabaab has attacked a Kenyan college, killing and taking hostages .\\nIt is a clear indicator the security situation in East Africa is deteriorating, says Stefan Wolff .\\nMore than military action aloe is needed to combat terrorism in the region, he says .',\n",
       " 'Easter is a key event in the Christian faith, but where did the Easter Bunny come from?\\nWhy is the date different every year, and what does it have to do with the moon?',\n",
       " 'In response to lawsuit, NCAA says it doesn\\'t control quality of education for student-athletes .\\nBut its website emphasizes importance of education, \"opportunities to learn\"\\nLawsuit claims students didn\\'t get an education because of academic fraud at UNC .',\n",
       " \"Judge won't allow teen leave hospital before her last chemotherapy treatment .\\nAttorneys for the teen are deciding whether to appeal .\\nCassandra C. is now in remission and is no longer opposed to the chemotherapy treatments .\",\n",
       " 'The song rules the chart for 13th week .\\nIt passes Robin Thicke\\'s \"Blurred Lines\"\\nSong three weeks from potentially tying \"One Sweet Day\" for record .',\n",
       " 'High temperatures are recorded on the northern tip of the Antarctica Peninsula .\\nThe World Meteorological Organization will make the final determination .',\n",
       " 'A Native American from a tribe not recognized by the feds wins the return of his eagle feathers .\\nAn IRS accountant is fired for insisting on carrying a symbolic Sikh knife to work .\\nA group of Chicago pastors takes on City Hall over its permits for new churches and loses .',\n",
       " \"Robert Lewis Burns Jr. was part of Lynyrd Skynyrd's original lineup .\\nHis car hit a mailbox and a tree just before midnight .\",\n",
       " \"Kim Ki-Jong is charged with attempted murder and assaulting a foreign envoy .\\nHe's accused of stabbing U.S. Ambassador Mark Lippert in the face and arm .\\nPolice said Kim opposed the joint U.S.-South Korean military drills .\",\n",
       " 'Hong Kong banker alleged murder case adjourned until May .\\nThe 29-year-old Rurik Jutting is accused of killing two Indonesian domestic workers .',\n",
       " 'Thai Airways subsidiary Thai Smile features Cartoon Network paint job on A320 jet .\\nOverhead bins, head rests and air sick bags feature characters from Cartoon Network .',\n",
       " 'Manning is serving a 35-year sentence for leaking thousands of classified documents .\\nShe says she will be using a voice phone to dictate her tweets .',\n",
       " 'Frida Ghitis: President Barack Obama is right to want a deal, but this one gives Iran too much .\\nShe says the framework agreement starts lifting Iran sanctions much too soon .',\n",
       " 'The final film featuring the late Paul Walker, \"Furious 7\" is opening around the globe this weekend .\\nIt\\'s worldwide debut may approach or cross $300 million by the end of Easter Sunday .',\n",
       " 'Deion Sanders calls out son for \"hood doughnuts\" comments .\\n\"You\\'re a Huxtable with a million $ trust fund. Stop the hood stuff!\"']"
      ]
     },
     "execution_count": 76,
     "metadata": {},
     "output_type": "execute_result"
    }
   ],
   "execution_count": 76
  },
  {
   "metadata": {},
   "cell_type": "markdown",
   "source": "# And now, let's write function 'calculate_metrics'",
   "id": "a9751aad2d13b9a"
  },
  {
   "metadata": {
    "ExecuteTime": {
     "end_time": "2024-06-16T15:59:45.494584Z",
     "start_time": "2024-06-16T15:59:45.488692Z"
    }
   },
   "cell_type": "code",
   "source": [
    "def calculate_metrics(model, tokenizer, func_summarize) -> list:\n",
    "    rouge_list = []\n",
    "    bleu_list = []\n",
    "    precision_list = []\n",
    "    recall_list = []\n",
    "    f1_score_list = []\n",
    "    \n",
    "    for index, example in enumerate(test_sample):\n",
    "        # Take example from sample\n",
    "        source = example[\"article\"]\n",
    "        summary = func_summarize(model, tokenizer, source)\n",
    "        \n",
    "        # Calculate BLEU-metric\n",
    "        tokenized_summary = nltk.word_tokenize(summary, language=\"english\")\n",
    "        tokenized_reference = nltk.word_tokenize(references[index], language=\"english\")\n",
    "        cur_bleu = sentence_bleu([tokenized_reference], tokenized_summary)\n",
    "        bleu_list.append(cur_bleu)\n",
    "        \n",
    "        # Calculate Bert-Score\n",
    "        precision, recall, f1 = score(\n",
    "        [summary], [references[index]], lang='en', verbose=False)\n",
    "        precision = float(precision)\n",
    "        recall = float(recall)\n",
    "        f1 = float(f1)\n",
    "        precision_list.append(precision)\n",
    "        recall_list.append(recall)\n",
    "        f1_score_list.append(f1)\n",
    "\n",
    "        # Return all metrics\n",
    "    return [bleu_list, precision_list, recall_list, f1_score_list]\n",
    "            "
   ],
   "id": "357497460f2794f8",
   "outputs": [],
   "execution_count": 37
  },
  {
   "metadata": {},
   "cell_type": "markdown",
   "source": [
    "## Metrics\n",
    "\n",
    "### 1. ROUGE (Recall-Oriented Understudy for Gisting Evaluation)\n",
    "\n",
    "**Formula:**\n",
    "\n",
    "$$\n",
    "\\text{ROUGE-N} = \\frac{\\sum_{} \\text{Count of N-grams in S} \\cap \\text{Count of N-grams in Candidate Summary}}{\\text{Count of N-grams in Summary}}\n",
    "$$\n",
    "\n",
    "**About it:**\n",
    "\n",
    "* ROUGE-N measures the concordance of N-grams (sequences of N words) between the abstract and the source text.\n",
    "* The higher the ROUGE-N value, the more N-grams match, indicating a better quality abstract.\n",
    "\n",
    "### 2. BLEU (Bilingual Evaluation Understudy)\n",
    "\n",
    "**Formula:**\n",
    "\n",
    "$$\n",
    "\\text{BLEU} = \\text{BP} \\times \\exp\\left(\\sum_{n=1}^N w_n \\log p_n \\right)\n",
    "$$\n",
    "\n",
    "**Where:**\n",
    "\n",
    "* BP - penalty for too short abstracts.\n",
    "* $p_n$ - accuracy of N-grams.\n",
    "* $w_n$ - weights for different N-grams.\n",
    "\n",
    "**About it:**\n",
    "\n",
    "* BLEU measures the accuracy and smoothness of the abstract compared to the source text.\n",
    "* The higher the BLEU value, the more accurate and smooth the abstract.\n",
    "\n",
    "### 3. BERTScore\n",
    "\n",
    "**Formula:**\n",
    "\n",
    "$$\n",
    "\\text{BERTScore} = \\frac{S(c,r) + S(r,c)}{2}\n",
    "$$\n",
    "\n",
    "**Where:**\n",
    "\n",
    "* $S(c,r)$ - evaluation of the similarity of the abstract ($c$) with the source text ($r$) according to the BERT model.\n",
    "* $S(r,c)$ - evaluation of the similarity of the source text ($r$) with the abstract ($c$) according to the BERT model.\n",
    "\n",
    "**About it:**\n",
    "\n",
    "* BERTScore uses the BERT model to evaluate the semantic similarity between the abstract and the source text.\n",
    "* The higher the BERTScore value, the greater the semantic similarity, indicating a better quality abstract."
   ],
   "id": "d62cc348e06d2f20"
  },
  {
   "metadata": {},
   "cell_type": "markdown",
   "source": "# Let's calculate all metrics",
   "id": "732da4c568e8d342"
  },
  {
   "metadata": {
    "ExecuteTime": {
     "end_time": "2024-06-16T16:04:45.177349Z",
     "start_time": "2024-06-16T16:02:07.721237Z"
    }
   },
   "cell_type": "code",
   "source": [
    "metrics_bart_base = calculate_metrics(model_1, tokenizer_1, summarize_bart_base_func)\n",
    "print(\"Bart-Base's already calculated!\")"
   ],
   "id": "eb96d7a7f7c18149",
   "outputs": [
    {
     "name": "stderr",
     "output_type": "stream",
     "text": [
      "Some weights of RobertaModel were not initialized from the model checkpoint at roberta-large and are newly initialized: ['roberta.pooler.dense.bias', 'roberta.pooler.dense.weight']\n",
      "You should probably TRAIN this model on a down-stream task to be able to use it for predictions and inference.\n",
      "Some weights of RobertaModel were not initialized from the model checkpoint at roberta-large and are newly initialized: ['roberta.pooler.dense.bias', 'roberta.pooler.dense.weight']\n",
      "You should probably TRAIN this model on a down-stream task to be able to use it for predictions and inference.\n",
      "Some weights of RobertaModel were not initialized from the model checkpoint at roberta-large and are newly initialized: ['roberta.pooler.dense.bias', 'roberta.pooler.dense.weight']\n",
      "You should probably TRAIN this model on a down-stream task to be able to use it for predictions and inference.\n",
      "Some weights of RobertaModel were not initialized from the model checkpoint at roberta-large and are newly initialized: ['roberta.pooler.dense.bias', 'roberta.pooler.dense.weight']\n",
      "You should probably TRAIN this model on a down-stream task to be able to use it for predictions and inference.\n",
      "Some weights of RobertaModel were not initialized from the model checkpoint at roberta-large and are newly initialized: ['roberta.pooler.dense.bias', 'roberta.pooler.dense.weight']\n",
      "You should probably TRAIN this model on a down-stream task to be able to use it for predictions and inference.\n"
     ]
    },
    {
     "name": "stdout",
     "output_type": "stream",
     "text": [
      "Bart-Base's already calculated!\n"
     ]
    }
   ],
   "execution_count": 52
  },
  {
   "metadata": {
    "ExecuteTime": {
     "end_time": "2024-06-16T16:14:52.100855Z",
     "start_time": "2024-06-16T16:14:18.481835Z"
    }
   },
   "cell_type": "code",
   "source": [
    "metrics_kasperchux_bart_base = calculate_metrics(model_2, tokenizer_2, summarize_bart_base_kasperchuk_func)\n",
    "print(\"Kasperchux/Bart-Base's already calculated!\")"
   ],
   "id": "19f690467a3b7905",
   "outputs": [
    {
     "name": "stderr",
     "output_type": "stream",
     "text": [
      "C:\\Users\\User\\.conda\\envs\\coding\\Lib\\site-packages\\transformers\\generation\\utils.py:1168: UserWarning: Using the model-agnostic default `max_length` (=20) to control the generation length. We recommend setting `max_new_tokens` to control the maximum length of the generation.\n",
      "  warnings.warn(\n",
      "C:\\Users\\User\\.conda\\envs\\coding\\Lib\\site-packages\\nltk\\translate\\bleu_score.py:552: UserWarning: \n",
      "The hypothesis contains 0 counts of 2-gram overlaps.\n",
      "Therefore the BLEU score evaluates to 0, independently of\n",
      "how many N-gram overlaps of lower order it contains.\n",
      "Consider using lower n-gram order or use SmoothingFunction()\n",
      "  warnings.warn(_msg)\n",
      "C:\\Users\\User\\.conda\\envs\\coding\\Lib\\site-packages\\nltk\\translate\\bleu_score.py:552: UserWarning: \n",
      "The hypothesis contains 0 counts of 3-gram overlaps.\n",
      "Therefore the BLEU score evaluates to 0, independently of\n",
      "how many N-gram overlaps of lower order it contains.\n",
      "Consider using lower n-gram order or use SmoothingFunction()\n",
      "  warnings.warn(_msg)\n",
      "C:\\Users\\User\\.conda\\envs\\coding\\Lib\\site-packages\\nltk\\translate\\bleu_score.py:552: UserWarning: \n",
      "The hypothesis contains 0 counts of 4-gram overlaps.\n",
      "Therefore the BLEU score evaluates to 0, independently of\n",
      "how many N-gram overlaps of lower order it contains.\n",
      "Consider using lower n-gram order or use SmoothingFunction()\n",
      "  warnings.warn(_msg)\n",
      "Some weights of RobertaModel were not initialized from the model checkpoint at roberta-large and are newly initialized: ['roberta.pooler.dense.bias', 'roberta.pooler.dense.weight']\n",
      "You should probably TRAIN this model on a down-stream task to be able to use it for predictions and inference.\n",
      "Some weights of RobertaModel were not initialized from the model checkpoint at roberta-large and are newly initialized: ['roberta.pooler.dense.bias', 'roberta.pooler.dense.weight']\n",
      "You should probably TRAIN this model on a down-stream task to be able to use it for predictions and inference.\n",
      "Some weights of RobertaModel were not initialized from the model checkpoint at roberta-large and are newly initialized: ['roberta.pooler.dense.bias', 'roberta.pooler.dense.weight']\n",
      "You should probably TRAIN this model on a down-stream task to be able to use it for predictions and inference.\n",
      "Some weights of RobertaModel were not initialized from the model checkpoint at roberta-large and are newly initialized: ['roberta.pooler.dense.bias', 'roberta.pooler.dense.weight']\n",
      "You should probably TRAIN this model on a down-stream task to be able to use it for predictions and inference.\n",
      "Some weights of RobertaModel were not initialized from the model checkpoint at roberta-large and are newly initialized: ['roberta.pooler.dense.bias', 'roberta.pooler.dense.weight']\n",
      "You should probably TRAIN this model on a down-stream task to be able to use it for predictions and inference.\n",
      "Some weights of RobertaModel were not initialized from the model checkpoint at roberta-large and are newly initialized: ['roberta.pooler.dense.bias', 'roberta.pooler.dense.weight']\n",
      "You should probably TRAIN this model on a down-stream task to be able to use it for predictions and inference.\n",
      "Some weights of RobertaModel were not initialized from the model checkpoint at roberta-large and are newly initialized: ['roberta.pooler.dense.bias', 'roberta.pooler.dense.weight']\n",
      "You should probably TRAIN this model on a down-stream task to be able to use it for predictions and inference.\n",
      "Some weights of RobertaModel were not initialized from the model checkpoint at roberta-large and are newly initialized: ['roberta.pooler.dense.bias', 'roberta.pooler.dense.weight']\n",
      "You should probably TRAIN this model on a down-stream task to be able to use it for predictions and inference.\n",
      "Some weights of RobertaModel were not initialized from the model checkpoint at roberta-large and are newly initialized: ['roberta.pooler.dense.bias', 'roberta.pooler.dense.weight']\n",
      "You should probably TRAIN this model on a down-stream task to be able to use it for predictions and inference.\n",
      "Some weights of RobertaModel were not initialized from the model checkpoint at roberta-large and are newly initialized: ['roberta.pooler.dense.bias', 'roberta.pooler.dense.weight']\n",
      "You should probably TRAIN this model on a down-stream task to be able to use it for predictions and inference.\n",
      "Some weights of RobertaModel were not initialized from the model checkpoint at roberta-large and are newly initialized: ['roberta.pooler.dense.bias', 'roberta.pooler.dense.weight']\n",
      "You should probably TRAIN this model on a down-stream task to be able to use it for predictions and inference.\n",
      "Some weights of RobertaModel were not initialized from the model checkpoint at roberta-large and are newly initialized: ['roberta.pooler.dense.bias', 'roberta.pooler.dense.weight']\n",
      "You should probably TRAIN this model on a down-stream task to be able to use it for predictions and inference.\n",
      "Some weights of RobertaModel were not initialized from the model checkpoint at roberta-large and are newly initialized: ['roberta.pooler.dense.bias', 'roberta.pooler.dense.weight']\n",
      "You should probably TRAIN this model on a down-stream task to be able to use it for predictions and inference.\n"
     ]
    },
    {
     "ename": "IndexError",
     "evalue": "index out of range in self",
     "output_type": "error",
     "traceback": [
      "\u001B[1;31m---------------------------------------------------------------------------\u001B[0m",
      "\u001B[1;31mIndexError\u001B[0m                                Traceback (most recent call last)",
      "Cell \u001B[1;32mIn[77], line 1\u001B[0m\n\u001B[1;32m----> 1\u001B[0m metrics_kasperchux_bart_base \u001B[38;5;241m=\u001B[39m \u001B[43mcalculate_metrics\u001B[49m\u001B[43m(\u001B[49m\u001B[43mmodel_2\u001B[49m\u001B[43m,\u001B[49m\u001B[43m \u001B[49m\u001B[43mtokenizer_2\u001B[49m\u001B[43m,\u001B[49m\u001B[43m \u001B[49m\u001B[43msummarize_bart_base_kasperchuk_func\u001B[49m\u001B[43m)\u001B[49m\n\u001B[0;32m      2\u001B[0m \u001B[38;5;28mprint\u001B[39m(\u001B[38;5;124m\"\u001B[39m\u001B[38;5;124mKasperchux/Bart-Base\u001B[39m\u001B[38;5;124m'\u001B[39m\u001B[38;5;124ms already calculated!\u001B[39m\u001B[38;5;124m\"\u001B[39m)\n",
      "Cell \u001B[1;32mIn[37], line 11\u001B[0m, in \u001B[0;36mcalculate_metrics\u001B[1;34m(model, tokenizer, func_summarize)\u001B[0m\n\u001B[0;32m      8\u001B[0m \u001B[38;5;28;01mfor\u001B[39;00m index, example \u001B[38;5;129;01min\u001B[39;00m \u001B[38;5;28menumerate\u001B[39m(test_sample):\n\u001B[0;32m      9\u001B[0m     \u001B[38;5;66;03m# Take example from sample\u001B[39;00m\n\u001B[0;32m     10\u001B[0m     source \u001B[38;5;241m=\u001B[39m example[\u001B[38;5;124m\"\u001B[39m\u001B[38;5;124marticle\u001B[39m\u001B[38;5;124m\"\u001B[39m]\n\u001B[1;32m---> 11\u001B[0m     summary \u001B[38;5;241m=\u001B[39m \u001B[43mfunc_summarize\u001B[49m\u001B[43m(\u001B[49m\u001B[43mmodel\u001B[49m\u001B[43m,\u001B[49m\u001B[43m \u001B[49m\u001B[43mtokenizer\u001B[49m\u001B[43m,\u001B[49m\u001B[43m \u001B[49m\u001B[43msource\u001B[49m\u001B[43m)\u001B[49m\n\u001B[0;32m     13\u001B[0m     \u001B[38;5;66;03m# Calculate BLEU-metric\u001B[39;00m\n\u001B[0;32m     14\u001B[0m     tokenized_summary \u001B[38;5;241m=\u001B[39m nltk\u001B[38;5;241m.\u001B[39mword_tokenize(summary, language\u001B[38;5;241m=\u001B[39m\u001B[38;5;124m\"\u001B[39m\u001B[38;5;124menglish\u001B[39m\u001B[38;5;124m\"\u001B[39m)\n",
      "Cell \u001B[1;32mIn[6], line 3\u001B[0m, in \u001B[0;36msummarize_bart_base_kasperchuk_func\u001B[1;34m(model, tokenizer, text)\u001B[0m\n\u001B[0;32m      1\u001B[0m \u001B[38;5;28;01mdef\u001B[39;00m \u001B[38;5;21msummarize_bart_base_kasperchuk_func\u001B[39m(model, tokenizer, text: \u001B[38;5;28mstr\u001B[39m) \u001B[38;5;241m-\u001B[39m\u001B[38;5;241m>\u001B[39m \u001B[38;5;28mstr\u001B[39m:\n\u001B[0;32m      2\u001B[0m     input_ids \u001B[38;5;241m=\u001B[39m tokenizer\u001B[38;5;241m.\u001B[39mencode(text, return_tensors\u001B[38;5;241m=\u001B[39m\u001B[38;5;124m'\u001B[39m\u001B[38;5;124mpt\u001B[39m\u001B[38;5;124m'\u001B[39m) \u001B[38;5;66;03m# Encode it\u001B[39;00m\n\u001B[1;32m----> 3\u001B[0m     output \u001B[38;5;241m=\u001B[39m \u001B[43mmodel\u001B[49m\u001B[38;5;241;43m.\u001B[39;49m\u001B[43mgenerate\u001B[49m\u001B[43m(\u001B[49m\u001B[43minput_ids\u001B[49m\u001B[43m)\u001B[49m  \u001B[38;5;66;03m# Get summarized text \u001B[39;00m\n\u001B[0;32m      4\u001B[0m     output_text \u001B[38;5;241m=\u001B[39m tokenizer\u001B[38;5;241m.\u001B[39mdecode(output[\u001B[38;5;241m0\u001B[39m], skip_special_tokens\u001B[38;5;241m=\u001B[39m\u001B[38;5;28;01mTrue\u001B[39;00m) \u001B[38;5;66;03m# Decode it.\u001B[39;00m\n\u001B[0;32m      5\u001B[0m     \u001B[38;5;28;01mreturn\u001B[39;00m output_text\n",
      "File \u001B[1;32m~\\.conda\\envs\\coding\\Lib\\site-packages\\torch\\utils\\_contextlib.py:115\u001B[0m, in \u001B[0;36mcontext_decorator.<locals>.decorate_context\u001B[1;34m(*args, **kwargs)\u001B[0m\n\u001B[0;32m    112\u001B[0m \u001B[38;5;129m@functools\u001B[39m\u001B[38;5;241m.\u001B[39mwraps(func)\n\u001B[0;32m    113\u001B[0m \u001B[38;5;28;01mdef\u001B[39;00m \u001B[38;5;21mdecorate_context\u001B[39m(\u001B[38;5;241m*\u001B[39margs, \u001B[38;5;241m*\u001B[39m\u001B[38;5;241m*\u001B[39mkwargs):\n\u001B[0;32m    114\u001B[0m     \u001B[38;5;28;01mwith\u001B[39;00m ctx_factory():\n\u001B[1;32m--> 115\u001B[0m         \u001B[38;5;28;01mreturn\u001B[39;00m \u001B[43mfunc\u001B[49m\u001B[43m(\u001B[49m\u001B[38;5;241;43m*\u001B[39;49m\u001B[43margs\u001B[49m\u001B[43m,\u001B[49m\u001B[43m \u001B[49m\u001B[38;5;241;43m*\u001B[39;49m\u001B[38;5;241;43m*\u001B[39;49m\u001B[43mkwargs\u001B[49m\u001B[43m)\u001B[49m\n",
      "File \u001B[1;32m~\\.conda\\envs\\coding\\Lib\\site-packages\\transformers\\generation\\utils.py:1597\u001B[0m, in \u001B[0;36mGenerationMixin.generate\u001B[1;34m(self, inputs, generation_config, logits_processor, stopping_criteria, prefix_allowed_tokens_fn, synced_gpus, assistant_model, streamer, negative_prompt_ids, negative_prompt_attention_mask, **kwargs)\u001B[0m\n\u001B[0;32m   1591\u001B[0m     model_kwargs[\u001B[38;5;124m\"\u001B[39m\u001B[38;5;124mattention_mask\u001B[39m\u001B[38;5;124m\"\u001B[39m] \u001B[38;5;241m=\u001B[39m \u001B[38;5;28mself\u001B[39m\u001B[38;5;241m.\u001B[39m_prepare_attention_mask_for_generation(\n\u001B[0;32m   1592\u001B[0m         inputs_tensor, generation_config\u001B[38;5;241m.\u001B[39mpad_token_id, generation_config\u001B[38;5;241m.\u001B[39meos_token_id\n\u001B[0;32m   1593\u001B[0m     )\n\u001B[0;32m   1595\u001B[0m \u001B[38;5;28;01mif\u001B[39;00m \u001B[38;5;28mself\u001B[39m\u001B[38;5;241m.\u001B[39mconfig\u001B[38;5;241m.\u001B[39mis_encoder_decoder \u001B[38;5;129;01mand\u001B[39;00m \u001B[38;5;124m\"\u001B[39m\u001B[38;5;124mencoder_outputs\u001B[39m\u001B[38;5;124m\"\u001B[39m \u001B[38;5;129;01mnot\u001B[39;00m \u001B[38;5;129;01min\u001B[39;00m model_kwargs:\n\u001B[0;32m   1596\u001B[0m     \u001B[38;5;66;03m# if model is encoder decoder encoder_outputs are created and added to `model_kwargs`\u001B[39;00m\n\u001B[1;32m-> 1597\u001B[0m     model_kwargs \u001B[38;5;241m=\u001B[39m \u001B[38;5;28;43mself\u001B[39;49m\u001B[38;5;241;43m.\u001B[39;49m\u001B[43m_prepare_encoder_decoder_kwargs_for_generation\u001B[49m\u001B[43m(\u001B[49m\n\u001B[0;32m   1598\u001B[0m \u001B[43m        \u001B[49m\u001B[43minputs_tensor\u001B[49m\u001B[43m,\u001B[49m\u001B[43m \u001B[49m\u001B[43mmodel_kwargs\u001B[49m\u001B[43m,\u001B[49m\u001B[43m \u001B[49m\u001B[43mmodel_input_name\u001B[49m\u001B[43m,\u001B[49m\u001B[43m \u001B[49m\u001B[43mgeneration_config\u001B[49m\n\u001B[0;32m   1599\u001B[0m \u001B[43m    \u001B[49m\u001B[43m)\u001B[49m\n\u001B[0;32m   1601\u001B[0m \u001B[38;5;66;03m# 5. Prepare `input_ids` which will be used for auto-regressive generation\u001B[39;00m\n\u001B[0;32m   1602\u001B[0m \u001B[38;5;28;01mif\u001B[39;00m \u001B[38;5;28mself\u001B[39m\u001B[38;5;241m.\u001B[39mconfig\u001B[38;5;241m.\u001B[39mis_encoder_decoder:\n",
      "File \u001B[1;32m~\\.conda\\envs\\coding\\Lib\\site-packages\\transformers\\generation\\utils.py:523\u001B[0m, in \u001B[0;36mGenerationMixin._prepare_encoder_decoder_kwargs_for_generation\u001B[1;34m(self, inputs_tensor, model_kwargs, model_input_name, generation_config)\u001B[0m\n\u001B[0;32m    521\u001B[0m encoder_kwargs[\u001B[38;5;124m\"\u001B[39m\u001B[38;5;124mreturn_dict\u001B[39m\u001B[38;5;124m\"\u001B[39m] \u001B[38;5;241m=\u001B[39m \u001B[38;5;28;01mTrue\u001B[39;00m\n\u001B[0;32m    522\u001B[0m encoder_kwargs[model_input_name] \u001B[38;5;241m=\u001B[39m inputs_tensor\n\u001B[1;32m--> 523\u001B[0m model_kwargs[\u001B[38;5;124m\"\u001B[39m\u001B[38;5;124mencoder_outputs\u001B[39m\u001B[38;5;124m\"\u001B[39m]: ModelOutput \u001B[38;5;241m=\u001B[39m \u001B[43mencoder\u001B[49m\u001B[43m(\u001B[49m\u001B[38;5;241;43m*\u001B[39;49m\u001B[38;5;241;43m*\u001B[39;49m\u001B[43mencoder_kwargs\u001B[49m\u001B[43m)\u001B[49m\n\u001B[0;32m    525\u001B[0m \u001B[38;5;28;01mreturn\u001B[39;00m model_kwargs\n",
      "File \u001B[1;32m~\\.conda\\envs\\coding\\Lib\\site-packages\\torch\\nn\\modules\\module.py:1532\u001B[0m, in \u001B[0;36mModule._wrapped_call_impl\u001B[1;34m(self, *args, **kwargs)\u001B[0m\n\u001B[0;32m   1530\u001B[0m     \u001B[38;5;28;01mreturn\u001B[39;00m \u001B[38;5;28mself\u001B[39m\u001B[38;5;241m.\u001B[39m_compiled_call_impl(\u001B[38;5;241m*\u001B[39margs, \u001B[38;5;241m*\u001B[39m\u001B[38;5;241m*\u001B[39mkwargs)  \u001B[38;5;66;03m# type: ignore[misc]\u001B[39;00m\n\u001B[0;32m   1531\u001B[0m \u001B[38;5;28;01melse\u001B[39;00m:\n\u001B[1;32m-> 1532\u001B[0m     \u001B[38;5;28;01mreturn\u001B[39;00m \u001B[38;5;28;43mself\u001B[39;49m\u001B[38;5;241;43m.\u001B[39;49m\u001B[43m_call_impl\u001B[49m\u001B[43m(\u001B[49m\u001B[38;5;241;43m*\u001B[39;49m\u001B[43margs\u001B[49m\u001B[43m,\u001B[49m\u001B[43m \u001B[49m\u001B[38;5;241;43m*\u001B[39;49m\u001B[38;5;241;43m*\u001B[39;49m\u001B[43mkwargs\u001B[49m\u001B[43m)\u001B[49m\n",
      "File \u001B[1;32m~\\.conda\\envs\\coding\\Lib\\site-packages\\torch\\nn\\modules\\module.py:1541\u001B[0m, in \u001B[0;36mModule._call_impl\u001B[1;34m(self, *args, **kwargs)\u001B[0m\n\u001B[0;32m   1536\u001B[0m \u001B[38;5;66;03m# If we don't have any hooks, we want to skip the rest of the logic in\u001B[39;00m\n\u001B[0;32m   1537\u001B[0m \u001B[38;5;66;03m# this function, and just call forward.\u001B[39;00m\n\u001B[0;32m   1538\u001B[0m \u001B[38;5;28;01mif\u001B[39;00m \u001B[38;5;129;01mnot\u001B[39;00m (\u001B[38;5;28mself\u001B[39m\u001B[38;5;241m.\u001B[39m_backward_hooks \u001B[38;5;129;01mor\u001B[39;00m \u001B[38;5;28mself\u001B[39m\u001B[38;5;241m.\u001B[39m_backward_pre_hooks \u001B[38;5;129;01mor\u001B[39;00m \u001B[38;5;28mself\u001B[39m\u001B[38;5;241m.\u001B[39m_forward_hooks \u001B[38;5;129;01mor\u001B[39;00m \u001B[38;5;28mself\u001B[39m\u001B[38;5;241m.\u001B[39m_forward_pre_hooks\n\u001B[0;32m   1539\u001B[0m         \u001B[38;5;129;01mor\u001B[39;00m _global_backward_pre_hooks \u001B[38;5;129;01mor\u001B[39;00m _global_backward_hooks\n\u001B[0;32m   1540\u001B[0m         \u001B[38;5;129;01mor\u001B[39;00m _global_forward_hooks \u001B[38;5;129;01mor\u001B[39;00m _global_forward_pre_hooks):\n\u001B[1;32m-> 1541\u001B[0m     \u001B[38;5;28;01mreturn\u001B[39;00m \u001B[43mforward_call\u001B[49m\u001B[43m(\u001B[49m\u001B[38;5;241;43m*\u001B[39;49m\u001B[43margs\u001B[49m\u001B[43m,\u001B[49m\u001B[43m \u001B[49m\u001B[38;5;241;43m*\u001B[39;49m\u001B[38;5;241;43m*\u001B[39;49m\u001B[43mkwargs\u001B[49m\u001B[43m)\u001B[49m\n\u001B[0;32m   1543\u001B[0m \u001B[38;5;28;01mtry\u001B[39;00m:\n\u001B[0;32m   1544\u001B[0m     result \u001B[38;5;241m=\u001B[39m \u001B[38;5;28;01mNone\u001B[39;00m\n",
      "File \u001B[1;32m~\\.conda\\envs\\coding\\Lib\\site-packages\\transformers\\models\\bart\\modeling_bart.py:1163\u001B[0m, in \u001B[0;36mBartEncoder.forward\u001B[1;34m(self, input_ids, attention_mask, head_mask, inputs_embeds, output_attentions, output_hidden_states, return_dict)\u001B[0m\n\u001B[0;32m   1160\u001B[0m \u001B[38;5;28;01mif\u001B[39;00m inputs_embeds \u001B[38;5;129;01mis\u001B[39;00m \u001B[38;5;28;01mNone\u001B[39;00m:\n\u001B[0;32m   1161\u001B[0m     inputs_embeds \u001B[38;5;241m=\u001B[39m \u001B[38;5;28mself\u001B[39m\u001B[38;5;241m.\u001B[39membed_tokens(input_ids)\n\u001B[1;32m-> 1163\u001B[0m embed_pos \u001B[38;5;241m=\u001B[39m \u001B[38;5;28;43mself\u001B[39;49m\u001B[38;5;241;43m.\u001B[39;49m\u001B[43membed_positions\u001B[49m\u001B[43m(\u001B[49m\u001B[38;5;28;43minput\u001B[39;49m\u001B[43m)\u001B[49m\n\u001B[0;32m   1164\u001B[0m embed_pos \u001B[38;5;241m=\u001B[39m embed_pos\u001B[38;5;241m.\u001B[39mto(inputs_embeds\u001B[38;5;241m.\u001B[39mdevice)\n\u001B[0;32m   1166\u001B[0m hidden_states \u001B[38;5;241m=\u001B[39m inputs_embeds \u001B[38;5;241m+\u001B[39m embed_pos\n",
      "File \u001B[1;32m~\\.conda\\envs\\coding\\Lib\\site-packages\\torch\\nn\\modules\\module.py:1532\u001B[0m, in \u001B[0;36mModule._wrapped_call_impl\u001B[1;34m(self, *args, **kwargs)\u001B[0m\n\u001B[0;32m   1530\u001B[0m     \u001B[38;5;28;01mreturn\u001B[39;00m \u001B[38;5;28mself\u001B[39m\u001B[38;5;241m.\u001B[39m_compiled_call_impl(\u001B[38;5;241m*\u001B[39margs, \u001B[38;5;241m*\u001B[39m\u001B[38;5;241m*\u001B[39mkwargs)  \u001B[38;5;66;03m# type: ignore[misc]\u001B[39;00m\n\u001B[0;32m   1531\u001B[0m \u001B[38;5;28;01melse\u001B[39;00m:\n\u001B[1;32m-> 1532\u001B[0m     \u001B[38;5;28;01mreturn\u001B[39;00m \u001B[38;5;28;43mself\u001B[39;49m\u001B[38;5;241;43m.\u001B[39;49m\u001B[43m_call_impl\u001B[49m\u001B[43m(\u001B[49m\u001B[38;5;241;43m*\u001B[39;49m\u001B[43margs\u001B[49m\u001B[43m,\u001B[49m\u001B[43m \u001B[49m\u001B[38;5;241;43m*\u001B[39;49m\u001B[38;5;241;43m*\u001B[39;49m\u001B[43mkwargs\u001B[49m\u001B[43m)\u001B[49m\n",
      "File \u001B[1;32m~\\.conda\\envs\\coding\\Lib\\site-packages\\torch\\nn\\modules\\module.py:1541\u001B[0m, in \u001B[0;36mModule._call_impl\u001B[1;34m(self, *args, **kwargs)\u001B[0m\n\u001B[0;32m   1536\u001B[0m \u001B[38;5;66;03m# If we don't have any hooks, we want to skip the rest of the logic in\u001B[39;00m\n\u001B[0;32m   1537\u001B[0m \u001B[38;5;66;03m# this function, and just call forward.\u001B[39;00m\n\u001B[0;32m   1538\u001B[0m \u001B[38;5;28;01mif\u001B[39;00m \u001B[38;5;129;01mnot\u001B[39;00m (\u001B[38;5;28mself\u001B[39m\u001B[38;5;241m.\u001B[39m_backward_hooks \u001B[38;5;129;01mor\u001B[39;00m \u001B[38;5;28mself\u001B[39m\u001B[38;5;241m.\u001B[39m_backward_pre_hooks \u001B[38;5;129;01mor\u001B[39;00m \u001B[38;5;28mself\u001B[39m\u001B[38;5;241m.\u001B[39m_forward_hooks \u001B[38;5;129;01mor\u001B[39;00m \u001B[38;5;28mself\u001B[39m\u001B[38;5;241m.\u001B[39m_forward_pre_hooks\n\u001B[0;32m   1539\u001B[0m         \u001B[38;5;129;01mor\u001B[39;00m _global_backward_pre_hooks \u001B[38;5;129;01mor\u001B[39;00m _global_backward_hooks\n\u001B[0;32m   1540\u001B[0m         \u001B[38;5;129;01mor\u001B[39;00m _global_forward_hooks \u001B[38;5;129;01mor\u001B[39;00m _global_forward_pre_hooks):\n\u001B[1;32m-> 1541\u001B[0m     \u001B[38;5;28;01mreturn\u001B[39;00m \u001B[43mforward_call\u001B[49m\u001B[43m(\u001B[49m\u001B[38;5;241;43m*\u001B[39;49m\u001B[43margs\u001B[49m\u001B[43m,\u001B[49m\u001B[43m \u001B[49m\u001B[38;5;241;43m*\u001B[39;49m\u001B[38;5;241;43m*\u001B[39;49m\u001B[43mkwargs\u001B[49m\u001B[43m)\u001B[49m\n\u001B[0;32m   1543\u001B[0m \u001B[38;5;28;01mtry\u001B[39;00m:\n\u001B[0;32m   1544\u001B[0m     result \u001B[38;5;241m=\u001B[39m \u001B[38;5;28;01mNone\u001B[39;00m\n",
      "File \u001B[1;32m~\\.conda\\envs\\coding\\Lib\\site-packages\\transformers\\models\\bart\\modeling_bart.py:129\u001B[0m, in \u001B[0;36mBartLearnedPositionalEmbedding.forward\u001B[1;34m(self, input_ids, past_key_values_length)\u001B[0m\n\u001B[0;32m    124\u001B[0m bsz, seq_len \u001B[38;5;241m=\u001B[39m input_ids\u001B[38;5;241m.\u001B[39mshape[:\u001B[38;5;241m2\u001B[39m]\n\u001B[0;32m    125\u001B[0m positions \u001B[38;5;241m=\u001B[39m torch\u001B[38;5;241m.\u001B[39marange(\n\u001B[0;32m    126\u001B[0m     past_key_values_length, past_key_values_length \u001B[38;5;241m+\u001B[39m seq_len, dtype\u001B[38;5;241m=\u001B[39mtorch\u001B[38;5;241m.\u001B[39mlong, device\u001B[38;5;241m=\u001B[39m\u001B[38;5;28mself\u001B[39m\u001B[38;5;241m.\u001B[39mweight\u001B[38;5;241m.\u001B[39mdevice\n\u001B[0;32m    127\u001B[0m )\u001B[38;5;241m.\u001B[39mexpand(bsz, \u001B[38;5;241m-\u001B[39m\u001B[38;5;241m1\u001B[39m)\n\u001B[1;32m--> 129\u001B[0m \u001B[38;5;28;01mreturn\u001B[39;00m \u001B[38;5;28;43msuper\u001B[39;49m\u001B[43m(\u001B[49m\u001B[43m)\u001B[49m\u001B[38;5;241;43m.\u001B[39;49m\u001B[43mforward\u001B[49m\u001B[43m(\u001B[49m\u001B[43mpositions\u001B[49m\u001B[43m \u001B[49m\u001B[38;5;241;43m+\u001B[39;49m\u001B[43m \u001B[49m\u001B[38;5;28;43mself\u001B[39;49m\u001B[38;5;241;43m.\u001B[39;49m\u001B[43moffset\u001B[49m\u001B[43m)\u001B[49m\n",
      "File \u001B[1;32m~\\.conda\\envs\\coding\\Lib\\site-packages\\torch\\nn\\modules\\sparse.py:163\u001B[0m, in \u001B[0;36mEmbedding.forward\u001B[1;34m(self, input)\u001B[0m\n\u001B[0;32m    162\u001B[0m \u001B[38;5;28;01mdef\u001B[39;00m \u001B[38;5;21mforward\u001B[39m(\u001B[38;5;28mself\u001B[39m, \u001B[38;5;28minput\u001B[39m: Tensor) \u001B[38;5;241m-\u001B[39m\u001B[38;5;241m>\u001B[39m Tensor:\n\u001B[1;32m--> 163\u001B[0m     \u001B[38;5;28;01mreturn\u001B[39;00m \u001B[43mF\u001B[49m\u001B[38;5;241;43m.\u001B[39;49m\u001B[43membedding\u001B[49m\u001B[43m(\u001B[49m\n\u001B[0;32m    164\u001B[0m \u001B[43m        \u001B[49m\u001B[38;5;28;43minput\u001B[39;49m\u001B[43m,\u001B[49m\u001B[43m \u001B[49m\u001B[38;5;28;43mself\u001B[39;49m\u001B[38;5;241;43m.\u001B[39;49m\u001B[43mweight\u001B[49m\u001B[43m,\u001B[49m\u001B[43m \u001B[49m\u001B[38;5;28;43mself\u001B[39;49m\u001B[38;5;241;43m.\u001B[39;49m\u001B[43mpadding_idx\u001B[49m\u001B[43m,\u001B[49m\u001B[43m \u001B[49m\u001B[38;5;28;43mself\u001B[39;49m\u001B[38;5;241;43m.\u001B[39;49m\u001B[43mmax_norm\u001B[49m\u001B[43m,\u001B[49m\n\u001B[0;32m    165\u001B[0m \u001B[43m        \u001B[49m\u001B[38;5;28;43mself\u001B[39;49m\u001B[38;5;241;43m.\u001B[39;49m\u001B[43mnorm_type\u001B[49m\u001B[43m,\u001B[49m\u001B[43m \u001B[49m\u001B[38;5;28;43mself\u001B[39;49m\u001B[38;5;241;43m.\u001B[39;49m\u001B[43mscale_grad_by_freq\u001B[49m\u001B[43m,\u001B[49m\u001B[43m \u001B[49m\u001B[38;5;28;43mself\u001B[39;49m\u001B[38;5;241;43m.\u001B[39;49m\u001B[43msparse\u001B[49m\u001B[43m)\u001B[49m\n",
      "File \u001B[1;32m~\\.conda\\envs\\coding\\Lib\\site-packages\\torch\\nn\\functional.py:2264\u001B[0m, in \u001B[0;36membedding\u001B[1;34m(input, weight, padding_idx, max_norm, norm_type, scale_grad_by_freq, sparse)\u001B[0m\n\u001B[0;32m   2258\u001B[0m     \u001B[38;5;66;03m# Note [embedding_renorm set_grad_enabled]\u001B[39;00m\n\u001B[0;32m   2259\u001B[0m     \u001B[38;5;66;03m# XXX: equivalent to\u001B[39;00m\n\u001B[0;32m   2260\u001B[0m     \u001B[38;5;66;03m# with torch.no_grad():\u001B[39;00m\n\u001B[0;32m   2261\u001B[0m     \u001B[38;5;66;03m#   torch.embedding_renorm_\u001B[39;00m\n\u001B[0;32m   2262\u001B[0m     \u001B[38;5;66;03m# remove once script supports set_grad_enabled\u001B[39;00m\n\u001B[0;32m   2263\u001B[0m     _no_grad_embedding_renorm_(weight, \u001B[38;5;28minput\u001B[39m, max_norm, norm_type)\n\u001B[1;32m-> 2264\u001B[0m \u001B[38;5;28;01mreturn\u001B[39;00m \u001B[43mtorch\u001B[49m\u001B[38;5;241;43m.\u001B[39;49m\u001B[43membedding\u001B[49m\u001B[43m(\u001B[49m\u001B[43mweight\u001B[49m\u001B[43m,\u001B[49m\u001B[43m \u001B[49m\u001B[38;5;28;43minput\u001B[39;49m\u001B[43m,\u001B[49m\u001B[43m \u001B[49m\u001B[43mpadding_idx\u001B[49m\u001B[43m,\u001B[49m\u001B[43m \u001B[49m\u001B[43mscale_grad_by_freq\u001B[49m\u001B[43m,\u001B[49m\u001B[43m \u001B[49m\u001B[43msparse\u001B[49m\u001B[43m)\u001B[49m\n",
      "\u001B[1;31mIndexError\u001B[0m: index out of range in self"
     ]
    }
   ],
   "execution_count": 77
  },
  {
   "metadata": {
    "ExecuteTime": {
     "end_time": "2024-06-16T16:05:35.317683Z",
     "start_time": "2024-06-16T16:05:16.734216Z"
    }
   },
   "cell_type": "code",
   "source": [
    "metrics_falconai_ts = calculate_metrics(model_3, tokenizer_3, summarize_falcon_func)\n",
    "print(\"FalconAI's metrics already calculated\")"
   ],
   "id": "999348f56f08aeeb",
   "outputs": [
    {
     "name": "stderr",
     "output_type": "stream",
     "text": [
      "Your max_length is set to 800, but your input_length is only 789. Since this is a summarization task, where outputs shorter than the input are typically wanted, you might consider decreasing max_length manually, e.g. summarizer('...', max_length=394)\n",
      "Some weights of RobertaModel were not initialized from the model checkpoint at roberta-large and are newly initialized: ['roberta.pooler.dense.bias', 'roberta.pooler.dense.weight']\n",
      "You should probably TRAIN this model on a down-stream task to be able to use it for predictions and inference.\n",
      "Your max_length is set to 800, but your input_length is only 581. Since this is a summarization task, where outputs shorter than the input are typically wanted, you might consider decreasing max_length manually, e.g. summarizer('...', max_length=290)\n",
      "C:\\Users\\User\\.conda\\envs\\coding\\Lib\\site-packages\\nltk\\translate\\bleu_score.py:552: UserWarning: \n",
      "The hypothesis contains 0 counts of 4-gram overlaps.\n",
      "Therefore the BLEU score evaluates to 0, independently of\n",
      "how many N-gram overlaps of lower order it contains.\n",
      "Consider using lower n-gram order or use SmoothingFunction()\n",
      "  warnings.warn(_msg)\n",
      "Some weights of RobertaModel were not initialized from the model checkpoint at roberta-large and are newly initialized: ['roberta.pooler.dense.bias', 'roberta.pooler.dense.weight']\n",
      "You should probably TRAIN this model on a down-stream task to be able to use it for predictions and inference.\n",
      "Some weights of RobertaModel were not initialized from the model checkpoint at roberta-large and are newly initialized: ['roberta.pooler.dense.bias', 'roberta.pooler.dense.weight']\n",
      "You should probably TRAIN this model on a down-stream task to be able to use it for predictions and inference.\n",
      "Your max_length is set to 800, but your input_length is only 269. Since this is a summarization task, where outputs shorter than the input are typically wanted, you might consider decreasing max_length manually, e.g. summarizer('...', max_length=134)\n",
      "Some weights of RobertaModel were not initialized from the model checkpoint at roberta-large and are newly initialized: ['roberta.pooler.dense.bias', 'roberta.pooler.dense.weight']\n",
      "You should probably TRAIN this model on a down-stream task to be able to use it for predictions and inference.\n",
      "Your max_length is set to 800, but your input_length is only 490. Since this is a summarization task, where outputs shorter than the input are typically wanted, you might consider decreasing max_length manually, e.g. summarizer('...', max_length=245)\n",
      "Some weights of RobertaModel were not initialized from the model checkpoint at roberta-large and are newly initialized: ['roberta.pooler.dense.bias', 'roberta.pooler.dense.weight']\n",
      "You should probably TRAIN this model on a down-stream task to be able to use it for predictions and inference.\n"
     ]
    },
    {
     "name": "stdout",
     "output_type": "stream",
     "text": [
      "FalconAI's metrics already calculated\n"
     ]
    }
   ],
   "execution_count": 54
  },
  {
   "metadata": {
    "ExecuteTime": {
     "end_time": "2024-06-16T16:10:23.930475Z",
     "start_time": "2024-06-16T16:10:23.926604Z"
    }
   },
   "cell_type": "code",
   "source": [
    "def preprocess_metrics_for_presentation(metrics):\n",
    "    bleu = metrics[0]\n",
    "    precision = metrics[1]\n",
    "    recall = metrics[2]\n",
    "    f1 = metrics[3]\n",
    "    \n",
    "    avg_precision = np.mean(precision)\n",
    "    avg_recall = np.mean(recall)\n",
    "    avg_f1 = np.mean(f1)\n",
    "    avg_bleu = np.mean(bleu)\n",
    "    return avg_bleu, avg_precision, avg_recall, avg_f1"
   ],
   "id": "f4806ced567b39c2",
   "outputs": [],
   "execution_count": 61
  },
  {
   "metadata": {
    "ExecuteTime": {
     "end_time": "2024-06-16T15:57:40.187421Z",
     "start_time": "2024-06-16T15:57:40.184161Z"
    }
   },
   "cell_type": "code",
   "source": "import pandas as pd",
   "id": "9cb3b1473fc201",
   "outputs": [],
   "execution_count": 33
  },
  {
   "metadata": {
    "ExecuteTime": {
     "end_time": "2024-06-16T16:12:15.872415Z",
     "start_time": "2024-06-16T16:12:15.869154Z"
    }
   },
   "cell_type": "code",
   "source": "import seaborn as sns",
   "id": "dab39c2f40fba062",
   "outputs": [],
   "execution_count": 70
  },
  {
   "metadata": {
    "ExecuteTime": {
     "end_time": "2024-06-16T16:10:35.192502Z",
     "start_time": "2024-06-16T16:10:35.189490Z"
    }
   },
   "cell_type": "code",
   "source": "bart_base_bleu, bart_base_precision, bart_base_recall, bart_base_f1_score = preprocess_metrics_for_presentation(metrics_bart_base)",
   "id": "ef26b7c6f0f45381",
   "outputs": [],
   "execution_count": 65
  },
  {
   "metadata": {
    "ExecuteTime": {
     "end_time": "2024-06-16T16:10:27.679974Z",
     "start_time": "2024-06-16T16:10:27.676590Z"
    }
   },
   "cell_type": "code",
   "source": "kbart_base_bleu, kbart_base_precision, kbart_base_recall, kbart_base_f1_score = preprocess_metrics_for_presentation(metrics_kasperchux_bart_base) ",
   "id": "5bf0d7270271f4dd",
   "outputs": [],
   "execution_count": 63
  },
  {
   "metadata": {
    "ExecuteTime": {
     "end_time": "2024-06-16T16:11:11.316619Z",
     "start_time": "2024-06-16T16:11:11.313086Z"
    }
   },
   "cell_type": "code",
   "source": "falcon_base_bleu, falcon_base_precision, falcon_base_recall, falcon_base_f1_score = preprocess_metrics_for_presentation(metrics_falconai_ts)",
   "id": "326dee2679da39c8",
   "outputs": [],
   "execution_count": 66
  },
  {
   "metadata": {
    "ExecuteTime": {
     "end_time": "2024-06-16T16:11:15.074809Z",
     "start_time": "2024-06-16T16:11:15.071153Z"
    }
   },
   "cell_type": "code",
   "source": [
    "df = pd.DataFrame(\n",
    "    {\"Model\": [\"Bart-Base\", \"Kasperchux\", \"FalconAI\"],\n",
    "     \"BLEU-Score\": [bart_base_bleu, kbart_base_bleu, falcon_base_bleu],\n",
    "     \"Precision\": [bart_base_precision, kbart_base_precision, falcon_base_precision],\n",
    "     \"Recall\": [bart_base_recall, kbart_base_recall, falcon_base_recall],\n",
    "     \"F1-Score\": [bart_base_f1_score, kbart_base_f1_score, falcon_base_f1_score],\n",
    "     }\n",
    ")"
   ],
   "id": "4e72ae41b728bbb8",
   "outputs": [],
   "execution_count": 67
  },
  {
   "metadata": {
    "ExecuteTime": {
     "end_time": "2024-06-16T17:03:42.143437Z",
     "start_time": "2024-06-16T17:03:42.013836Z"
    }
   },
   "cell_type": "code",
   "source": "sns.barplot(x=\"Model\", y=\"BLEU-Score\", data=df)",
   "id": "71f93cab48e913f8",
   "outputs": [
    {
     "data": {
      "text/plain": [
       "<Axes: xlabel='Model', ylabel='BLEU-Score'>"
      ]
     },
     "execution_count": 78,
     "metadata": {},
     "output_type": "execute_result"
    },
    {
     "data": {
      "text/plain": [
       "<Figure size 640x480 with 1 Axes>"
      ],
      "image/png": "[encoded data removed]"
     },
     "metadata": {},
     "output_type": "display_data"
    }
   ],
   "execution_count": 78
  },
  {
   "metadata": {
    "ExecuteTime": {
     "end_time": "2024-06-16T16:13:22.322353Z",
     "start_time": "2024-06-16T16:13:22.201597Z"
    }
   },
   "cell_type": "code",
   "source": "sns.barplot(x=\"Model\", y=\"F1-Score\", data=df)",
   "id": "23d3cd3513122709",
   "outputs": [
    {
     "data": {
      "text/plain": [
       "<Axes: xlabel='Model', ylabel='F1-Score'>"
      ]
     },
     "execution_count": 72,
     "metadata": {},
     "output_type": "execute_result"
    },
    {
     "data": {
      "text/plain": [
       "<Figure size 640x480 with 1 Axes>"
      ],
      "image/png": "[encoded data removed]"
     },
     "metadata": {},
     "output_type": "display_data"
    }
   ],
   "execution_count": 72
  },
  {
   "metadata": {},
   "cell_type": "markdown",
   "source": [
    "# Let's come to conclusion..\n",
    "As we can see, FalconAI's model show's the best, it has the biggest BLEU and F1-Score. So i will use it in this project as summarizer.\n",
    "Bart-Base model also shows good result, but not so good as FalconAI. The third 'Kasperchux\\bart-base-summarization, my model shows\n",
    "the worth results in BLEU-metric. But it takes second place in F1-score. Bad results are in cause of very little num of training epochs (it's 1), and lack of computing units' "
   ],
   "id": "bb302df155fda1d0"
  }
 ],
 "metadata": {
  "kernelspec": {
   "display_name": "Python 3",
   "language": "python",
   "name": "python3"
  },
  "language_info": {
   "codemirror_mode": {
    "name": "ipython",
    "version": 2
   },
   "file_extension": ".py",
   "mimetype": "text/x-python",
   "name": "python",
   "nbconvert_exporter": "python",
   "pygments_lexer": "ipython2",
   "version": "2.7.6"
  }
 },
 "nbformat": 4,
 "nbformat_minor": 5
}
